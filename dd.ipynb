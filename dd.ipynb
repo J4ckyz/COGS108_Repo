{
  {
   "cell_type": "markdown",
   "metadata": {},
   "source": [
    "\n",
    "- Include a general introduction to your topic\n",
    "- Include explanation of what work has been done previously\n",
    "- Include citations or links to previous work\n",
    "\n",
    "With the increasing popularity of attending graduate school, college students have now encountered a life-determining choice in deciding their individual application plans. Sometimes, two students with similar academic backgrounds or research experiences may have completely different admission results, which inspires us to determine the hidden factors involved in graduate application.\n",
    "\n",
    "To reach our target, we try to focus on the relationship between the admission rate of the Master or Phd Program for college students compared to their different academic backgrounds. More specifically, we want to scale the student's academic score (GRE, GPA) and determine the influence of each factor on the admission results. The final outcome of the project, based on our assumptions, will illustrate a clear and precise scale between GRE and GPA that provides some suggestions to our peers who struggle in making their graduate school decisions.\n",
    "\n",
    "While reviewing the previous studies, we have found two instructional projects related to our topic. The first is "Graduate Admission Prediction", a previous study conducted by Mukesh Manral, which shows a direct positive relationship between a stronger academic background (includes GRE, GPA, Research Experience etc.) and a higher acceptance rate for graduate applications. Manral’s results not only confirm a possible correlation between two factors in our research but also show a possible way of justifying the result by histograms and data tables. On the other hand, in Sumit Bhongale’s project named as “‘American University Data’ IPEDS dataset”, Bhongale also takes other data points into account. In addition to the student's academic performance, Bhongale measures the ethnicity, gender, and immigration status of students and compares the relationship of each factor to the student's enrollment rate. Bhongale’s project inspires us to explore more than only academic performance, thus we will consider factors like the identity of students (either international or native) and their graduate programs (Master or Phd) as well.\n",
    "\n",
    "However, Manral's and Bhongale's datasets illustrate several drawbacks as well. First, the validity of the data requires improvements to the source and clarification of the algorithm. No clear clue shows how Manral derives his data and how both of them calculate university rates in an unbiased and logical way. The examples of Manral and Bhongale remind us about the importance of figuring out the source of data and the algorithm used in our project. Additionally, there are ethical concerns because the application data relates specifically to the private information of a student. We will ensure the privacy of the data we collect and protect the integrity of our data source.\n",
    "\n",
   ]
  },
}
