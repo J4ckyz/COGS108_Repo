{
  {
   "cell_type": "markdown",
   "metadata": {},
   "source": [
    "\n",
    "- Include a general introduction to your topic\n",
    "- Include explanation of what work has been done previously\n",
    "- Include citations or links to previous work\n",
    "\n",
    "With the increasing popularity of attending graduate school, college students have now encountered a life-determining choice in deciding their individual application plans. Sometimes, two students with similar academic backgrounds or research experiences may have completely different admission results, which inspires us to determine the hidden factors involved in graduate application.\n",
   ]
  },
}
