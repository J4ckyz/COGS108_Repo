{
  {
   "cell_type": "markdown",
   "metadata": {},
   "source": [
    "\n",
    "- Include a general introduction to your topic\n",
    "- Include explanation of what work has been done previously\n",
    "- Include citations or links to previous work\n",
    "\n",
    "With the increasing popularity of attending graduate school, college students have now encountered a life-determining choice in \n",
   ]
  },
}
