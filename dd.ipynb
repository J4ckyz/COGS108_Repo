{
 "cells": [
  {
   "cell_type": "markdown",
   "metadata": {},
   "source": [
    "# COGS 108 - Final Project Proposal"
   ]
  },
  {
   "cell_type": "markdown",
   "metadata": {},
   "source": [
    "# Names\n",
    "\n",
    "- Cindy Peng\n",
    "- Gege Bei\n",
    "- Yunhan Xiao\n",
    "- Tongzhou Hu\n",
    "- Jinyi Zhao"
   ]
  },
  {
   "cell_type": "markdown",
   "metadata": {},
   "source": [
    "# Research Question"
   ]
  },
  {
   "cell_type": "markdown",
   "metadata": {},
   "source": [
    "To what extent do hard factors such as GRE Scores and Undergraduate GPA influence the chance of admissions of Masters Programs during Graduate School applications?\n",
    "-  How do GRE Scores and Undergraduate GPA compare in admission acceptance outcomes?\n",
    "-  How have important parameters like the above-mentioned factors affected patterns of Masters Program admission chances?\n",
    "-  How do the influence of these factors on admission chances differ for both Masters students and PhD students?\n",
    "-  How does the admission acceptance outcome trend change or develop over time? Do the requirements of GRE Scores and Undergraduate GPA increase as years pass by?\n",
    "\n"
   ]
  },
  {
   "cell_type": "markdown",
   "metadata": {},
   "source": [
    "## Background and Prior Work"
   ]
  },
  {
   "cell_type": "markdown",
   "metadata": {},
   "source": [
    "\n",
    "As the popularity of attending graduate school becomes more prevalent, college students have now found themselves encountering a life-determining decision in choosing their individual application plans. Oftentimes, students with similar academic backgrounds or research experiences may have completely different admission results, inspiring our team to explore the hidden factors involved behind the graduate school application process. To reach our target, our team tries to focus on the relationship between the admission rates of either the Master or Phd Programs for college students and their different academic backgrounds as well as hard factor scores. More specifically, we want to scale the students’ academic scores (GRE Scores and Undergraduate GPA) and analyze the effects of each factor on the admission results. The final outcome of the project, based on our hypothetical assumptions, will illustrate a clear and precise scale between GRE Scores and Undergraduate GPA that provides insightful suggestions to more generations of college students who struggle in making their graduate school application decisions.\n",
    "\n",
    "While reviewing the previous studies, we have found two instructional projects related to our topic. The first is 'Graduate Admission Prediction', a previous study conducted by Mukesh Manral, which shows a direct positive relationship between a stronger academic background (including GRE Scores, Undergraduate GPA, Research Experiences, etc.) and a higher acceptance rate for graduate school applications[^LManral]. Manral’s project not only confirmed a possible correlation between two factors in our research but also offered several analytical tools including histograms and data tables. On the other hand, in Sumit Bhongale’s project named “‘American University Data’ IPEDS dataset”, Bhongale also takes other data points into account. In addition to the student's academic performance, Bhongale measures the ethnicity, gender, and immigration status of students and compares the relationship of each factor to the students’ enrollment rates[^Bhongal]. Bhongale’s project inspires our team to further explore more than merely the academic performance; in addition, we will consider factors like the identity of students (either international or native) and their graduate programs (Master or Phd) as well. \n", 
    "\n",
    "However, Manral's and Bhongale's datasets illustrate several drawbacks as well. First, the validity of the data requires improvements to the source and clarification of the algorithm. No clear clue shows how Manral derives his data and how both of them calculate university rates in an unbiased and logical way. The examples of Manral and Bhongale remind us about the importance of figuring out the source of data and the algorithm used in our project. Additionally, there are ethical concerns because the application data relates specifically to the private information of a student. We will ensure the privacy of the data we collect and protect the integrity of our data source.\n",
    "\n",
    "[^LManral]: LManral, M. (2022, June 12). Graduates admission prediction. Kaggle. Retrieved October 24, 2022, from https://www.kaggle.com/datasets/mukeshmanral/graduates-admission-prediction?datasetId=2260131  \n",
    "[^Bhongal]: Bhongale, S. (2017, October 7). 'American University Data' Ipeds dataset. Kaggle. Retrieved October 24, 2022, from https://www.kaggle.com/datasets/sumithbhongale/american-university-data-ipeds-dataset \n"
   ]
  },
  {
   "cell_type": "markdown",
   "metadata": {},
   "source": [
    "# Hypothesis\n"
   ]
  },
  {
   "cell_type": "markdown",
   "metadata": {},
   "source": [
    "\n",
    "- Include your team's hypothesis\n",
    "- Ensure that this hypothesis is clear to readers\n",
    "- Explain why you think this will be the outcome (what was your thinking?)\n",
    "\n",
    "What is your main hypothesis/predictions about what the answer to your question is? Briefly explain your thinking. (2-3 sentences)"
   ]
  },
  {
   "cell_type": "markdown",
   "metadata": {},
   "source": [
    "# Data"
   ]
  },
  {
   "cell_type": "markdown",
   "metadata": {},
   "source": [
    "1. Explain what the **ideal** dataset you would want to answer this question. (This should include: What variables? How many observations? Who/what/how would these data be collected? How would these data be stored/organized?)\n",
    "1. Search for potential **real** datasets that could provide you with something useful for this project.  You do not have to find every piece of data you will use, but you do need to have demonstrated some idea that (a) this data is gettable and (b) that this data may be different from what your ideal is"
   ]
  },
  {
   "cell_type": "markdown",
   "metadata": {},
   "source": [
    "# Ethics & Privacy"
   ]
  },
  {
   "cell_type": "markdown",
   "metadata": {},
   "source": [
    "- Thoughtful discussion of ethical concerns included\n",
    "- Ethical concerns consider the whole data science process (question asked, data collected, data being used, the bias in data, analysis, post-analysis, etc.)\n",
    "- How your group handled bias/ethical concerns clearly described\n",
    "\n",
    "Acknowledge and address any ethics & privacy related issues of your question(s), proposed dataset(s), and/or analyses. Use the information provided in lecture to guide your group discussion and thinking. If you need further guidance, check out [Deon's Ethics Checklist](http://deon.drivendata.org/#data-science-ethics-checklist). In particular:\n",
    "\n",
    "- Are there any biases/privacy/terms of use issues with the data you propsed?\n",
    "- Are there potential biases in your dataset(s), in terms of who it composes, and how it was collected, that may be problematic in terms of it allowing for equitable analysis? (For example, does your data exclude particular populations, or is it likely to reflect particular human biases in a way that could be a problem?)\n",
    "- How will you set out to detect these specific biases before, during, and after/when communicating your analysis?\n",
    "- Are there any other issues related to your topic area, data, and/or analyses that are potentially problematic in terms of data privacy and equitable impact?\n",
    "- How will you handle issues you identified?"
   ]
  },
  {
   "cell_type": "markdown",
   "metadata": {},
   "source": [
    "# Team Expectations "
   ]
  },
  {
   "cell_type": "markdown",
   "metadata": {},
   "source": [
    "\n",
    "Read over the [COGS108 Team Policies](https://github.com/COGS108/Projects/blob/master/COGS108_TeamPolicies.md) individually. Then, include your group’s expectations of one another for successful completion of your COGS108 project below. Discuss and agree on what all of your expectations are. Discuss how your team will communicate throughout the quarter and consider how you will communicate respectfully should conflicts arise. By including each member’s name above and by adding their name to the submission, you are indicating that you have read the COGS108 Team Policies, accept your team’s expectations below, and have every intention to fulfill them. These expectations are for your team’s use and benefit — they won’t be graded for their details.\n",
    "\n",
    "* *We will schedule weekly meetings via Zoom throughout this quarter to discuss our project.*\n",
    "* *Team Expectation 2*\n",
    "* *Team Expecation 3*\n",
    "* ..."
   ]
  },
  {
   "cell_type": "markdown",
   "metadata": {},
   "source": [
    "# Project Timeline Proposal"
   ]
  },
  {
   "cell_type": "markdown",
   "metadata": {},
   "source": [
    "Specify your team's specific project timeline. An example timeline has been provided. Changes the dates, times, names, and details to fit your group's plan.\n",
    "\n",
    "If you think you will need any special resources or training outside what we have covered in COGS 108 to solve your problem, then your proposal should state these clearly. For example, if you have selected a problem that involves implementing multiple neural networks, please state this so we can make sure you know what you’re doing and so we can point you to resources you will need to implement your project. Note that you are not required to use outside methods.\n",
    "\n",
    "\n",
    "\n",
    "| Meeting Date  | Meeting Time| Completed Before Meeting  | Discuss at Meeting |\n",
    "|---|---|---|---|\n",
    "| 1/20  |  1 PM | Read & Think about COGS 108 expectations; brainstorm topics/questions  | Determine best form of communication; Discuss and decide on final project topic; discuss hypothesis; begin background research | \n",
    "| 1/26  |  10 AM |  Do background research on topic | Discuss ideal dataset(s) and ethics; draft project proposal | \n",
    "| 2/1  | 10 AM  | Edit, finalize, and submit proposal; Search for datasets  | Discuss Wrangling and possible analytical approaches; Assign group members to lead each specific part   |\n",
    "| 2/14  | 6 PM  | Import & Wrangle Data (Ant Man); EDA (Hulk) | Review/Edit wrangling/EDA; Discuss Analysis Plan   |\n",
    "| 2/23  | 12 PM  | Finalize wrangling/EDA; Begin Analysis (Iron Man; Thor) | Discuss/edit Analysis; Complete project check-in |\n",
    "| 3/13  | 12 PM  | Complete analysis; Draft results/conclusion/discussion (Wasp)| Discuss/edit full project |\n",
    "| 3/19  | Before 11:59 PM  | NA | Turn in Final Project & Group Project Surveys |"
   ]
  },
  {
   "cell_type": "code",
   "execution_count": null,
   "metadata": {},
   "outputs": [],
   "source": []
  }
 ],
 "metadata": {
  "kernelspec": {
   "display_name": "Python 3",
   "language": "python",
   "name": "python3"
  },
  "language_info": {
   "codemirror_mode": {
    "name": "ipython",
    "version": 3
   },
   "file_extension": ".py",
   "mimetype": "text/x-python",
   "name": "python",
   "nbconvert_exporter": "python",
   "pygments_lexer": "ipython3",
   "version": "3.8.8"
  }
 },
 "nbformat": 4,
 "nbformat_minor": 2
}
