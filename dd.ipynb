{
 "cells": [
  {
   "cell_type": "markdown",
   "metadata": {},
   "source": [
    "# COGS 108 - Final Project Proposal"
   ]
  },
  {
   "cell_type": "markdown",
   "metadata": {},
   "source": [
    "# Names\n",
    "\n",
    "- Cindy Peng\n",
    "- Gege Bei\n",
    "- Yunhan Xiao\n",
    "- Tongzhou Hu\n",
    "- Jinyi Zhao"
   ]
  },
  {
   "cell_type": "markdown",
   "metadata": {},
   "source": [
    "# Research Question"
   ]
  },
  {
   "cell_type": "markdown",
   "metadata": {},
   "source": [
    "To what extent do hard factors such as GRE Scores and Undergraduate GPA influence the chance of admissions of Masters Programs during Graduate School applications?\n",
    "-  How do GRE Scores and Undergraduate GPA compare in admission acceptance outcomes?\n",
    "-  How have important parameters like the above-mentioned factors affected patterns of Masters Program admission chances?\n",
    "-  How do the influence of these factors on admission chances differ for both Masters students and PhD students?\n",
    "-  How does the admission acceptance outcome trend change or develop over time? Do the requirements of GRE Scores and Undergraduate GPA increase as years pass by?\n",
    "\n"
   ]
  },
  {
   "cell_type": "markdown",
   "metadata": {},
   "source": [
    "## Background and Prior Work"
   ]
  },
  {
   "cell_type": "markdown",
   "metadata": {},
   "source": [
    "As the popularity of attending graduate school becomes more prevalent, college students have now found themselves encountering a life-determining decision in choosing their individual application plans. Oftentimes, students with similar academic backgrounds or research experiences may have completely different admission results, inspiring our team to explore the hidden factors involved behind the graduate school application process. To reach our target, our team tries to focus on the relationship between the admission rates of either the Master or Phd Programs for college students and their different academic backgrounds as well as hard factor scores. More specifically, we want to scale the students’ academic scores (GRE Scores and Undergraduate GPA) and analyze the effects of each factor on the admission results. The final outcome of the project, based on our hypothetical assumptions, will illustrate a clear and precise scale between GRE Scores and Undergraduate GPA that provides insightful suggestions to more generations of college students who struggle in making their graduate school application decisions.\n",
    "\n",
    "While reviewing the previous studies, we have found two instructional projects related to our topic. The first is 'Graduate Admission Prediction', a previous study conducted by Mukesh Manral, which shows a direct positive relationship between a stronger academic background (including GRE Scores, Undergraduate GPA, Research Experiences, etc.) and a higher acceptance rate for graduate school applications[^LManral]. Manral’s project not only confirmed a possible correlation between two factors in our research but also offered several analytical tools including histograms and data tables. On the other hand, in Sumit Bhongale’s project named “‘American University Data’ IPEDS dataset”, Bhongale also takes other data points into account. In addition to the student's academic performance, Bhongale measures the ethnicity, gender, and immigration status of students and compares the relationship of each factor to the students’ enrollment rates[^Bhongal]. Bhongale’s project inspires our team to further explore more than merely the academic performance; in addition, we will consider factors like the identity of students (either international or native) and their graduate programs (Master or Phd) as well. \n",
    "\n",
    "However, Manral's and Bhongale's datasets still have several potential problems. First of all, the validity of the data and the source requires improvements and further checks as well as algorithm clarifications. No clear clue demonstrates exactly how Manral derived a conclusion with his data and how both of the two researchers calculate university rates in an unbiased and logical way. The examples of Manral and Bhongale reminded us about the importance of figuring out the source of data and the algorithm used in our project. Moreover, there are ethical concerns that exist because the application data sources are considered as private information of the student population, and our team needs to ensure the privacy of the data we collect and the integrity of our datasets to be protected.\n",
    "\n",
    "\n",
    "[^LManral]: LManral, M. (2022, June 12). Graduates admission prediction. Kaggle. Retrieved October 24, 2022, from https://www.kaggle.com/datasets/mukeshmanral/graduates-admission-prediction?datasetId=2260131  \n",
    "[^Bhongal]: Bhongale, S. (2017, October 7). 'American University Data' Ipeds dataset. Kaggle. Retrieved October 24, 2022, from https://www.kaggle.com/datasets/sumithbhongale/american-university-data-ipeds-dataset \n"
   ]
  },
  {
   "cell_type": "markdown",
   "metadata": {},
   "source": [
    "# Hypothesis\n"
   ]
  },
  {
   "cell_type": "markdown",
   "metadata": {},
   "source": [
    "Both GRE Scores and Undergraduate GPA have a positively correlated impact on the admission acceptance chances during Graduate School applications, since the higher the GRE Scores and Undergraduate GPA, the higher the chances of being admitted.\n",
    "\n",
    "- The Undergraduate GPA has a greater impact on influencing the admission acceptance outcomes in comparison to the GRE Scores during Graduate School applications. \n",
    "- There is no significant relationship between the effects of GRE Scores and Undergraduate GPA and the chance of admissions of Masters Program during Graduate School applications.\n",
    "- There is no significant difference in the effects between the GRE Scores and Undergraduate GPA on influencing the chance of admissions of Masters Program during Graduate School applications. \n",
    "\n"
   ]
  },
  {
   "cell_type": "markdown",
   "metadata": {},
   "source": [
    "# Data"
   ]
  },
  {
   "cell_type": "markdown",
   "metadata": {},
   "source": [
    "The Ideal dataset would have all the relevant application material of applicants including their major, applying schools and GPA, GRE grade, TOEFL grade as well as (if possible) their research experience, personal statement, and professor’s recommendation etc. We are looking forward to finding an online open database of admitted and (if possible) not admitted students with their information. \n",
    "\n",
    "The website GradCafe has all kinds of admission information we need, thus the data is obtainable. However, due to privacy issues, we have only this dataset available online where the data is submitted to the website voluntarily. The problem of the dataset is that not every applicant offers all the information. Some only offer GRE grades, some don't offer descriptions of their statements. Even though the size of the dataset is over 500,000, we have to do a lot of data cleaning to obtain a more ideal dataset. "
   ]
  },
  {
   "cell_type": "markdown",
   "metadata": {},
   "source": [
    "# Ethics & Privacy"
   ]
  },
  {
   "cell_type": "markdown",
   "metadata": {},
   "source": [
    "The primary datasets we chose are all from the website GRADCAFE. It is an open forum for college students to discuss their concerns toward academic performance. We are confident that the data we collected from the website on students' graduate application results are voluntary and anonymous. We would not show any name or detailed personal information on our datasets. Moreover, our project is going to be done for academic use, instead of commercial purpose. The final results of the project will only be available on GitHub, and to our knowledge the projects are only public if the students explicitly agree for the projects to be public. Therefore, we think that there are not any informed consent or PII exposure related problems for our project. \n",
    "\n",
    "However, there exists some ethical issues with our final dataset. The biggest concerns for our project are collection bias and dataset bias. We cannot confirm the authenticity of the data provided by the students and we also have questions about the source of the data, because it is not officially certified data. Besides, due to the fact that we do not have access to the original survey, we are not able to identify if there were discriminations like race or gender bias within the original survey. \n"
   ]
  },
  {
   "cell_type": "markdown",
   "metadata": {},
   "source": [
    "# Team Expectations "
   ]
  },
  {
   "cell_type": "markdown",
   "metadata": {},
   "source": [
    "- We will write the accompanying text throughout the project to explain each section.\n",
    "- We will make decisions based on every group members’ will.  \n",
    "- We will schedule weekly meetings via Zoom throughout this quarter to discuss our project.\n",
    "- We will respect each other’s opinions and make contributions to our project together. \n",
    "- We will set deadlines to accomplish each goal for our project."
   ]
  },
  {
   "cell_type": "markdown",
   "metadata": {},
   "source": [
    "# Project Timeline Proposal"
   ]
  },
  {
   "cell_type": "markdown",
   "metadata": {},
   "source": [
    "| Meeting Date  | Meeting Time| Completed Before Meeting  | Discuss at Meeting |\n",
    "|---|---|---|---|\n",
    "| 10/26  |  1 PM | Read & Think about COGS 108 expectations; brainstorm topics/questions  | Determine best form of communication; Discuss and decide on final project topic; discuss hypothesis; begin background research | \n",
    "| 11/1  |  10 AM |  Do background research on topic | Discuss ideal dataset(s) and ethics; draft project proposal | \n",
    "| 11/8 | 10 AM  | Edit, finalize, and submit proposal; Search for datasets  | Discuss Wrangling and possible analytical approaches; Assign group members to lead each specific part   |\n",
    "| 11/12  | 6 PM  | Import & Wrangle Data (Ant Man); EDA (Hulk) | Review/Edit wrangling/EDA; Discuss Analysis Plan   |\n",
    "| 11/18  | 12 PM  | Finalize wrangling/EDA; Begin Analysis (Iron Man; Thor) | Discuss/edit Analysis; Complete project check-in |\n",
    "| 11/24  | 12 PM  | Complete analysis; Draft results/conclusion/discussion (Wasp)| Discuss/edit full project |\n",
    "| 11/30  | Before 11:59 PM  | NA | Turn in Final Project & Group Project Surveys |"
   ]
  },
  {
   "cell_type": "code",
   "execution_count": null,
   "metadata": {},
   "outputs": [],
   "source": []
  }
 ],
 "metadata": {
  "kernelspec": {
   "display_name": "Python 3 (ipykernel)",
   "language": "python",
   "name": "python3"
  },
  "language_info": {
   "codemirror_mode": {
    "name": "ipython",
    "version": 3
   },
   "file_extension": ".py",
   "mimetype": "text/x-python",
   "name": "python",
   "nbconvert_exporter": "python",
   "pygments_lexer": "ipython3",
   "version": "3.9.13"
  }
 },
 "nbformat": 4,
 "nbformat_minor": 2
}
